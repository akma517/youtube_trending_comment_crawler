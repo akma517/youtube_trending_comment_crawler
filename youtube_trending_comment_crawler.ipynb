{
  "nbformat": 4,
  "nbformat_minor": 0,
  "metadata": {
    "kernelspec": {
      "display_name": "Python 3",
      "language": "python",
      "name": "python3"
    },
    "language_info": {
      "codemirror_mode": {
        "name": "ipython",
        "version": 3
      },
      "file_extension": ".py",
      "mimetype": "text/x-python",
      "name": "python",
      "nbconvert_exporter": "python",
      "pygments_lexer": "ipython3",
      "version": "3.7.6"
    },
    "colab": {
      "name": "YoutubeTrendingCommentCrawler.ipynb",
      "provenance": [],
      "collapsed_sections": []
    }
  },
  "cells": [
    {
      "cell_type": "markdown",
      "metadata": {
        "id": "z11Vg1AnSxZt"
      },
      "source": [
        "## Youtube 댓글 Crawling"
      ]
    },
    {
      "cell_type": "markdown",
      "metadata": {
        "id": "RKkO8nkQ4bgl"
      },
      "source": [
        "코랩에서 크롬드라이브 임포트"
      ]
    },
    {
      "cell_type": "code",
      "metadata": {
        "colab": {
          "base_uri": "https://localhost:8080/"
        },
        "id": "UC0NMI0q5hzR",
        "outputId": "860a5f43-6691-4a48-87a6-f71ff11b6d79"
      },
      "source": [
        "!pip install selenium\n",
        "!apt-get update\n",
        "!apt install chromium-chromedriver\n",
        "!cp /usr/lib/chromium-browser/chromedriver /usr/bin\n",
        "import sys\n",
        "sys.path.insert(0,'/usr/lib/chromium-browser/chromedriver')"
      ],
      "execution_count": 1,
      "outputs": [
        {
          "output_type": "stream",
          "name": "stdout",
          "text": [
            "Collecting selenium\n",
            "  Downloading selenium-4.0.0-py3-none-any.whl (954 kB)\n",
            "\u001b[K     |████████████████████████████████| 954 kB 5.3 MB/s \n",
            "\u001b[?25hCollecting urllib3[secure]~=1.26\n",
            "  Downloading urllib3-1.26.7-py2.py3-none-any.whl (138 kB)\n",
            "\u001b[K     |████████████████████████████████| 138 kB 48.1 MB/s \n",
            "\u001b[?25hCollecting trio~=0.17\n",
            "  Downloading trio-0.19.0-py3-none-any.whl (356 kB)\n",
            "\u001b[K     |████████████████████████████████| 356 kB 46.9 MB/s \n",
            "\u001b[?25hCollecting trio-websocket~=0.9\n",
            "  Downloading trio_websocket-0.9.2-py3-none-any.whl (16 kB)\n",
            "Requirement already satisfied: attrs>=19.2.0 in /usr/local/lib/python3.7/dist-packages (from trio~=0.17->selenium) (21.2.0)\n",
            "Collecting async-generator>=1.9\n",
            "  Downloading async_generator-1.10-py3-none-any.whl (18 kB)\n",
            "Collecting outcome\n",
            "  Downloading outcome-1.1.0-py2.py3-none-any.whl (9.7 kB)\n",
            "Requirement already satisfied: idna in /usr/local/lib/python3.7/dist-packages (from trio~=0.17->selenium) (2.10)\n",
            "Requirement already satisfied: sortedcontainers in /usr/local/lib/python3.7/dist-packages (from trio~=0.17->selenium) (2.4.0)\n",
            "Collecting sniffio\n",
            "  Downloading sniffio-1.2.0-py3-none-any.whl (10 kB)\n",
            "Collecting wsproto>=0.14\n",
            "  Downloading wsproto-1.0.0-py3-none-any.whl (24 kB)\n",
            "Requirement already satisfied: certifi in /usr/local/lib/python3.7/dist-packages (from urllib3[secure]~=1.26->selenium) (2021.10.8)\n",
            "Collecting pyOpenSSL>=0.14\n",
            "  Downloading pyOpenSSL-21.0.0-py2.py3-none-any.whl (55 kB)\n",
            "\u001b[K     |████████████████████████████████| 55 kB 2.4 MB/s \n",
            "\u001b[?25hCollecting cryptography>=1.3.4\n",
            "  Downloading cryptography-36.0.0-cp36-abi3-manylinux_2_24_x86_64.whl (3.6 MB)\n",
            "\u001b[K     |████████████████████████████████| 3.6 MB 19.4 MB/s \n",
            "\u001b[?25hRequirement already satisfied: cffi>=1.12 in /usr/local/lib/python3.7/dist-packages (from cryptography>=1.3.4->urllib3[secure]~=1.26->selenium) (1.15.0)\n",
            "Requirement already satisfied: pycparser in /usr/local/lib/python3.7/dist-packages (from cffi>=1.12->cryptography>=1.3.4->urllib3[secure]~=1.26->selenium) (2.21)\n",
            "Requirement already satisfied: six>=1.5.2 in /usr/local/lib/python3.7/dist-packages (from pyOpenSSL>=0.14->urllib3[secure]~=1.26->selenium) (1.15.0)\n",
            "Collecting h11<1,>=0.9.0\n",
            "  Downloading h11-0.12.0-py3-none-any.whl (54 kB)\n",
            "\u001b[K     |████████████████████████████████| 54 kB 2.4 MB/s \n",
            "\u001b[?25hInstalling collected packages: sniffio, outcome, h11, cryptography, async-generator, wsproto, urllib3, trio, pyOpenSSL, trio-websocket, selenium\n",
            "  Attempting uninstall: urllib3\n",
            "    Found existing installation: urllib3 1.24.3\n",
            "    Uninstalling urllib3-1.24.3:\n",
            "      Successfully uninstalled urllib3-1.24.3\n",
            "\u001b[31mERROR: pip's dependency resolver does not currently take into account all the packages that are installed. This behaviour is the source of the following dependency conflicts.\n",
            "requests 2.23.0 requires urllib3!=1.25.0,!=1.25.1,<1.26,>=1.21.1, but you have urllib3 1.26.7 which is incompatible.\n",
            "datascience 0.10.6 requires folium==0.2.1, but you have folium 0.8.3 which is incompatible.\u001b[0m\n",
            "Successfully installed async-generator-1.10 cryptography-36.0.0 h11-0.12.0 outcome-1.1.0 pyOpenSSL-21.0.0 selenium-4.0.0 sniffio-1.2.0 trio-0.19.0 trio-websocket-0.9.2 urllib3-1.26.7 wsproto-1.0.0\n",
            "Get:1 http://security.ubuntu.com/ubuntu bionic-security InRelease [88.7 kB]\n",
            "Get:2 https://cloud.r-project.org/bin/linux/ubuntu bionic-cran40/ InRelease [3,626 B]\n",
            "Ign:3 https://developer.download.nvidia.com/compute/cuda/repos/ubuntu1804/x86_64  InRelease\n",
            "Hit:4 http://archive.ubuntu.com/ubuntu bionic InRelease\n",
            "Ign:5 https://developer.download.nvidia.com/compute/machine-learning/repos/ubuntu1804/x86_64  InRelease\n",
            "Hit:6 https://developer.download.nvidia.com/compute/cuda/repos/ubuntu1804/x86_64  Release\n",
            "Hit:7 https://developer.download.nvidia.com/compute/machine-learning/repos/ubuntu1804/x86_64  Release\n",
            "Get:8 http://ppa.launchpad.net/c2d4u.team/c2d4u4.0+/ubuntu bionic InRelease [15.9 kB]\n",
            "Get:9 http://archive.ubuntu.com/ubuntu bionic-updates InRelease [88.7 kB]\n",
            "Hit:10 http://ppa.launchpad.net/cran/libgit2/ubuntu bionic InRelease\n",
            "Get:11 http://archive.ubuntu.com/ubuntu bionic-backports InRelease [74.6 kB]\n",
            "Hit:12 http://ppa.launchpad.net/deadsnakes/ppa/ubuntu bionic InRelease\n",
            "Hit:13 http://ppa.launchpad.net/graphics-drivers/ppa/ubuntu bionic InRelease\n",
            "Get:16 http://ppa.launchpad.net/c2d4u.team/c2d4u4.0+/ubuntu bionic/main Sources [1,812 kB]\n",
            "Get:17 http://archive.ubuntu.com/ubuntu bionic-updates/main amd64 Packages [2,867 kB]\n",
            "Get:18 http://ppa.launchpad.net/c2d4u.team/c2d4u4.0+/ubuntu bionic/main amd64 Packages [928 kB]\n",
            "Fetched 5,878 kB in 3s (1,892 kB/s)\n",
            "Reading package lists... Done\n",
            "Reading package lists... Done\n",
            "Building dependency tree       \n",
            "Reading state information... Done\n",
            "The following additional packages will be installed:\n",
            "  chromium-browser chromium-browser-l10n chromium-codecs-ffmpeg-extra\n",
            "Suggested packages:\n",
            "  webaccounts-chromium-extension unity-chromium-extension\n",
            "The following NEW packages will be installed:\n",
            "  chromium-browser chromium-browser-l10n chromium-chromedriver\n",
            "  chromium-codecs-ffmpeg-extra\n",
            "0 upgraded, 4 newly installed, 0 to remove and 37 not upgraded.\n",
            "Need to get 94.0 MB of archives.\n",
            "After this operation, 324 MB of additional disk space will be used.\n",
            "Get:1 http://archive.ubuntu.com/ubuntu bionic-updates/universe amd64 chromium-codecs-ffmpeg-extra amd64 95.0.4638.69-0ubuntu0.18.04.1 [1,135 kB]\n",
            "Get:2 http://archive.ubuntu.com/ubuntu bionic-updates/universe amd64 chromium-browser amd64 95.0.4638.69-0ubuntu0.18.04.1 [83.6 MB]\n",
            "Get:3 http://archive.ubuntu.com/ubuntu bionic-updates/universe amd64 chromium-browser-l10n all 95.0.4638.69-0ubuntu0.18.04.1 [4,249 kB]\n",
            "Get:4 http://archive.ubuntu.com/ubuntu bionic-updates/universe amd64 chromium-chromedriver amd64 95.0.4638.69-0ubuntu0.18.04.1 [4,986 kB]\n",
            "Fetched 94.0 MB in 4s (24.4 MB/s)\n",
            "Selecting previously unselected package chromium-codecs-ffmpeg-extra.\n",
            "(Reading database ... 155222 files and directories currently installed.)\n",
            "Preparing to unpack .../chromium-codecs-ffmpeg-extra_95.0.4638.69-0ubuntu0.18.04.1_amd64.deb ...\n",
            "Unpacking chromium-codecs-ffmpeg-extra (95.0.4638.69-0ubuntu0.18.04.1) ...\n",
            "Selecting previously unselected package chromium-browser.\n",
            "Preparing to unpack .../chromium-browser_95.0.4638.69-0ubuntu0.18.04.1_amd64.deb ...\n",
            "Unpacking chromium-browser (95.0.4638.69-0ubuntu0.18.04.1) ...\n",
            "Selecting previously unselected package chromium-browser-l10n.\n",
            "Preparing to unpack .../chromium-browser-l10n_95.0.4638.69-0ubuntu0.18.04.1_all.deb ...\n",
            "Unpacking chromium-browser-l10n (95.0.4638.69-0ubuntu0.18.04.1) ...\n",
            "Selecting previously unselected package chromium-chromedriver.\n",
            "Preparing to unpack .../chromium-chromedriver_95.0.4638.69-0ubuntu0.18.04.1_amd64.deb ...\n",
            "Unpacking chromium-chromedriver (95.0.4638.69-0ubuntu0.18.04.1) ...\n",
            "Setting up chromium-codecs-ffmpeg-extra (95.0.4638.69-0ubuntu0.18.04.1) ...\n",
            "Setting up chromium-browser (95.0.4638.69-0ubuntu0.18.04.1) ...\n",
            "update-alternatives: using /usr/bin/chromium-browser to provide /usr/bin/x-www-browser (x-www-browser) in auto mode\n",
            "update-alternatives: using /usr/bin/chromium-browser to provide /usr/bin/gnome-www-browser (gnome-www-browser) in auto mode\n",
            "Setting up chromium-chromedriver (95.0.4638.69-0ubuntu0.18.04.1) ...\n",
            "Setting up chromium-browser-l10n (95.0.4638.69-0ubuntu0.18.04.1) ...\n",
            "Processing triggers for man-db (2.8.3-2ubuntu0.1) ...\n",
            "Processing triggers for hicolor-icon-theme (0.17-2) ...\n",
            "Processing triggers for mime-support (3.60ubuntu1) ...\n",
            "Processing triggers for libc-bin (2.27-3ubuntu1.3) ...\n",
            "/sbin/ldconfig.real: /usr/local/lib/python3.7/dist-packages/ideep4py/lib/libmkldnn.so.0 is not a symbolic link\n",
            "\n",
            "cp: '/usr/lib/chromium-browser/chromedriver' and '/usr/bin/chromedriver' are the same file\n"
          ]
        }
      ]
    },
    {
      "cell_type": "markdown",
      "metadata": {
        "id": "Y2fX8Od84WZZ"
      },
      "source": [
        "구글 드라이브 연동"
      ]
    },
    {
      "cell_type": "code",
      "metadata": {
        "colab": {
          "base_uri": "https://localhost:8080/"
        },
        "id": "Cs0GTPaJ4VFA",
        "outputId": "17bd6acc-a4f8-4749-fae4-f855840f549b"
      },
      "source": [
        "from google.colab import drive\n",
        "drive.mount('/content/drive')"
      ],
      "execution_count": 2,
      "outputs": [
        {
          "output_type": "stream",
          "name": "stdout",
          "text": [
            "Mounted at /content/drive\n"
          ]
        }
      ]
    },
    {
      "cell_type": "code",
      "metadata": {
        "id": "SEPZXMiDSxZt"
      },
      "source": [
        "from selenium import webdriver as wd\n",
        "from datetime import datetime\n",
        "from bs4 import BeautifulSoup\n",
        "import time\n",
        "import pandas as pd\n",
        "import requests\n",
        "import re\n",
        "from pathlib import Path\n",
        "\n",
        "# 오늘 날짜 폴더를 생성\n",
        "today_date = datetime.today().strftime(\"%Y-%m-%d\")\n",
        "Path(\"/content/drive/MyDrive/Colab Notebooks/{}\".format(today_date)).mkdir(parents=True, exist_ok=True)\n",
        "\n",
        "# 유튜브 메인에서 인기기 페이지에 들어가 상위 10개의 영상에 대한 타이틀과 rul 수집(오늘 날짜 폴더에 titleCheck.txt로 따로 저장)\n",
        "def get_urls_from_youtube():\n",
        "\n",
        "    today_date = datetime.today().strftime(\"%Y-%m-%d\")\n",
        "\n",
        "    titles = []\n",
        "    urls = []\n",
        "    \n",
        "    url = \"https://www.youtube.com/feed/trending/?gl=KR\"\n",
        "    chrome_options = wd.ChromeOptions()\n",
        "    chrome_options.add_argument('--headless')\n",
        "    chrome_options.add_argument('--no-sandbox')\n",
        "    chrome_options.add_argument('--disable-dev-shm-usage')\n",
        "\n",
        "    driver = wd.Chrome(executable_path=\"chromedriver\", chrome_options=chrome_options)\n",
        "    \n",
        "    driver.get(url)\n",
        "    \n",
        "    last_page_height = driver.execute_script(\"return document.documentElement.scrollHeight\")\n",
        "\n",
        "    while True:\n",
        "        driver.execute_script(\"window.scrollTo(0, document.documentElement.scrollHeight);\")\n",
        "        \n",
        "        time.sleep(3.0)\n",
        "        \n",
        "        \n",
        "        new_page_height = driver.execute_script(\"return document.documentElement.scrollHeight\")\n",
        "        \n",
        "        if new_page_height == last_page_height:\n",
        "            break\n",
        "            \n",
        "        last_page_height = new_page_height\n",
        "        \n",
        "    html_source = driver.page_source\n",
        "    \n",
        "    driver.quit()\n",
        "    \n",
        "    soup = BeautifulSoup(html_source, 'lxml')\n",
        "    \n",
        "    datas = soup.select(\"a#video-title\")\n",
        "    \n",
        "\n",
        "    \n",
        "    file_name = \"/content/drive/MyDrive/Colab Notebooks/{}/titleCheck.txt\".format(today_date)\n",
        "    file_titles = open(file_name,\"r\")\n",
        "    titleNm = file_titles.read()\n",
        "    text = titleNm\n",
        "    sendTitles = []\n",
        "    sendUrls = []\n",
        "    count = 10\n",
        "\n",
        "    for data in datas:\n",
        "        title = data.text.replace('\\n', '')\n",
        "        url = \"https://www.youtube.com/\" + data.get('href')\n",
        "        if title in titleNm:\n",
        "            continue\n",
        "        else:\n",
        "            count -= 1\n",
        "            text += title + \"\\n\"\n",
        "            sendTitles.append(title)\n",
        "            sendUrls.append(url)\n",
        "        if count <= 0:\n",
        "            break\n",
        "    file_titles.close()\n",
        "      \n",
        "    file_titles = open(file_name,\"w\", encoding=\"utf-8\")\n",
        "    file_titles.write(text)\n",
        "    file_titles.close()\n",
        "\n",
        "    for i in sendTitles:\n",
        "        print(i)\n",
        "\n",
        "    for i in sendUrls:\n",
        "        print(i)\n",
        "\n",
        "    return sendTitles, sendUrls\n",
        "\n",
        "# html 소스를 크롤링\n",
        "def crawl_youtube_page_html_sources(urls):\n",
        "    html_sources = []\n",
        "\n",
        "    for i in range(len(urls)):\n",
        "        chrome_options = wd.ChromeOptions()\n",
        "        chrome_options.add_argument('--headless')\n",
        "        chrome_options.add_argument('--no-sandbox')\n",
        "        chrome_options.add_argument('--disable-dev-shm-usage')\n",
        "\n",
        "        driver = wd.Chrome(executable_path=\"chromedriver\", chrome_options=chrome_options)\n",
        "        driver.get(urls[i])\n",
        "\n",
        "        last_page_height = driver.execute_script(\"return document.documentElement.scrollHeight\")\n",
        "\n",
        "        while True:\n",
        "            driver.execute_script(\"window.scrollTo(0, document.documentElement.scrollHeight);\")\n",
        "            time.sleep(5.0)\n",
        "            new_page_height = driver.execute_script(\"return document.documentElement.scrollHeight\")\n",
        "\n",
        "            if new_page_height == last_page_height:\n",
        "                break\n",
        "            last_page_height = new_page_height\n",
        "\n",
        "\n",
        "        html_source = driver.page_source\n",
        "        html_sources.append(html_source)\n",
        "        print(\"OK\")\n",
        "\n",
        "        driver.quit()\n",
        "    return html_sources\n",
        "\n",
        "# 크롤링한 html 소스에서 댓글 정보를 수집(타임라인 제거)\n",
        "def get_comments(html_sources):\n",
        "    my_dataframes = []\n",
        "    for html in html_sources:\n",
        "        \n",
        "        soup = BeautifulSoup(html, 'lxml')\n",
        "\n",
        "        youtube_comments = soup.select('yt-formatted-string#content-text')\n",
        "        \n",
        "        str_youtube_comments = []\n",
        "\n",
        "        for i in range(len(youtube_comments)):\n",
        "            str_tmp = str(youtube_comments[i].text)\n",
        "            str_tmp = str_tmp.replace('\\n', '')\n",
        "            str_tmp = str_tmp.replace('\\t', '')\n",
        "            str_tmp = str_tmp.replace('               ', '')\n",
        "            str_tmp = re.sub('\\d{1,2}:\\d{2}', '', str_tmp)\n",
        "            str_youtube_comments.append(str_tmp)\n",
        "            \n",
        "        pd_data = {\"Comment\":str_youtube_comments}\n",
        "\n",
        "        youtube_pd = pd.DataFrame(pd_data)\n",
        "\n",
        "        my_dataframes.append(youtube_pd)\n",
        "        \n",
        "    return my_dataframes\n",
        "\n",
        "# 오늘 날짜 폴더에 수집된 댓글들을 각 영상의 타이틀로 엑셀파일로 변환하여 저장\n",
        "def convert_excel_from_dataframe(titles, my_dataframes):\n",
        "  today_date = datetime.today().strftime(\"%Y-%m-%d\")\n",
        "  for i in range(len(my_dataframes)):  \n",
        "        title = re.sub('[-=+,#/\\?:^$.@*\\\"※~&%ㆍ!』\\\\‘|\\(\\)\\[\\]\\<\\>`\\'…《\\》]', '', titles[i])\n",
        "        my_dataframes[i].to_excel(\"/content/drive/MyDrive/Colab Notebooks/{}/{}.xlsx\".format(today_date, title)) "
      ],
      "execution_count": 13,
      "outputs": []
    },
    {
      "cell_type": "markdown",
      "metadata": {
        "id": "ReEnbQJeSxZt"
      },
      "source": [
        "## 사용 예시"
      ]
    },
    {
      "cell_type": "code",
      "metadata": {
        "colab": {
          "base_uri": "https://localhost:8080/"
        },
        "id": "7JPe4PYVSxZt",
        "outputId": "a4195f2a-707c-4a2c-b4e1-26925c61cca9"
      },
      "source": [
        "titles, urls = get_urls_from_youtube()"
      ],
      "execution_count": 5,
      "outputs": [
        {
          "output_type": "stream",
          "name": "stderr",
          "text": [
            "/usr/local/lib/python3.7/dist-packages/ipykernel_launcher.py:19: DeprecationWarning: use options instead of chrome_options\n"
          ]
        },
        {
          "output_type": "stream",
          "name": "stdout",
          "text": [
            "오히려 좋아\n",
            "Limousine (Feat. MINO) (Prod. by GRAY)\n",
            "Meeting is easy, parting is hard (Feat. Leellamarz) (Prod. by TOIL)\n",
            "Reguilon scores first ever Spurs goal | HIGHLIGHTS | Spurs 2-1 Leeds\n",
            "SMTM10 [풀버전/8회] ♬ 리무진 (Feat. MINO) - 비오 @본선\n",
            "Shall we dance?💥 The top-secret new member reveal💃of LACHICA🕺 | Dancer | LACHICA | WORKMAN ep.126\n",
            "국밥집 공기밥의 밥알 개수는 몇 개일까?? 끝이 없다ㅋㅋㅋ\n",
            "천만원빵 짜장면 5그릇 빨리먹기 푸드파이트.. 과연 승자는 누구??\n",
            "빠지는 순간 얼음물 샤워! 공포의 징검다리 건너기 ㅋㅋㅋ 허징어게임#4\n",
            "gganbu (Feat. YUMDDA & ASH ISLAND) (Prod. by TOIL)\n",
            "https://www.youtube.com//watch?v=QcSskAs1F2s\n",
            "https://www.youtube.com//watch?v=3eKFF4cCBaY\n",
            "https://www.youtube.com//watch?v=BxfGh2xy7a4\n",
            "https://www.youtube.com//watch?v=K05XHEB5YpU\n",
            "https://www.youtube.com//watch?v=BRtDS6NDLJw\n",
            "https://www.youtube.com//watch?v=4-dCVUL7zoM\n",
            "https://www.youtube.com//watch?v=EdCQwCQ1xCM\n",
            "https://www.youtube.com//watch?v=B6__3CLc-cg\n",
            "https://www.youtube.com//watch?v=Xwtv06DsrvQ\n",
            "https://www.youtube.com//watch?v=3oXKbxq1ceM\n"
          ]
        }
      ]
    },
    {
      "cell_type": "code",
      "metadata": {
        "colab": {
          "base_uri": "https://localhost:8080/"
        },
        "id": "IodkBzdrtB3c",
        "outputId": "d80fc72a-c1f5-4c60-b901-c618e6394a80"
      },
      "source": [
        "html_sorces = crawl_youtube_page_html_sources(urls)"
      ],
      "execution_count": 6,
      "outputs": [
        {
          "output_type": "stream",
          "name": "stderr",
          "text": [
            "/usr/local/lib/python3.7/dist-packages/ipykernel_launcher.py:91: DeprecationWarning: use options instead of chrome_options\n"
          ]
        },
        {
          "output_type": "stream",
          "name": "stdout",
          "text": [
            "OK\n"
          ]
        },
        {
          "output_type": "stream",
          "name": "stderr",
          "text": [
            "/usr/local/lib/python3.7/dist-packages/ipykernel_launcher.py:91: DeprecationWarning: use options instead of chrome_options\n"
          ]
        },
        {
          "output_type": "stream",
          "name": "stdout",
          "text": [
            "OK\n"
          ]
        },
        {
          "output_type": "stream",
          "name": "stderr",
          "text": [
            "/usr/local/lib/python3.7/dist-packages/ipykernel_launcher.py:91: DeprecationWarning: use options instead of chrome_options\n"
          ]
        },
        {
          "output_type": "stream",
          "name": "stdout",
          "text": [
            "OK\n"
          ]
        },
        {
          "output_type": "stream",
          "name": "stderr",
          "text": [
            "/usr/local/lib/python3.7/dist-packages/ipykernel_launcher.py:91: DeprecationWarning: use options instead of chrome_options\n"
          ]
        },
        {
          "output_type": "stream",
          "name": "stdout",
          "text": [
            "OK\n"
          ]
        },
        {
          "output_type": "stream",
          "name": "stderr",
          "text": [
            "/usr/local/lib/python3.7/dist-packages/ipykernel_launcher.py:91: DeprecationWarning: use options instead of chrome_options\n"
          ]
        },
        {
          "output_type": "stream",
          "name": "stdout",
          "text": [
            "OK\n"
          ]
        },
        {
          "output_type": "stream",
          "name": "stderr",
          "text": [
            "/usr/local/lib/python3.7/dist-packages/ipykernel_launcher.py:91: DeprecationWarning: use options instead of chrome_options\n"
          ]
        },
        {
          "output_type": "stream",
          "name": "stdout",
          "text": [
            "OK\n"
          ]
        },
        {
          "output_type": "stream",
          "name": "stderr",
          "text": [
            "/usr/local/lib/python3.7/dist-packages/ipykernel_launcher.py:91: DeprecationWarning: use options instead of chrome_options\n"
          ]
        },
        {
          "output_type": "stream",
          "name": "stdout",
          "text": [
            "OK\n"
          ]
        },
        {
          "output_type": "stream",
          "name": "stderr",
          "text": [
            "/usr/local/lib/python3.7/dist-packages/ipykernel_launcher.py:91: DeprecationWarning: use options instead of chrome_options\n"
          ]
        },
        {
          "output_type": "stream",
          "name": "stdout",
          "text": [
            "OK\n"
          ]
        },
        {
          "output_type": "stream",
          "name": "stderr",
          "text": [
            "/usr/local/lib/python3.7/dist-packages/ipykernel_launcher.py:91: DeprecationWarning: use options instead of chrome_options\n"
          ]
        },
        {
          "output_type": "stream",
          "name": "stdout",
          "text": [
            "OK\n"
          ]
        },
        {
          "output_type": "stream",
          "name": "stderr",
          "text": [
            "/usr/local/lib/python3.7/dist-packages/ipykernel_launcher.py:91: DeprecationWarning: use options instead of chrome_options\n"
          ]
        },
        {
          "output_type": "stream",
          "name": "stdout",
          "text": [
            "OK\n"
          ]
        }
      ]
    },
    {
      "cell_type": "code",
      "metadata": {
        "id": "4vu4ATQ8tCDa"
      },
      "source": [
        "my_dataframes = get_comments(html_sorces)"
      ],
      "execution_count": 14,
      "outputs": []
    },
    {
      "cell_type": "code",
      "metadata": {
        "id": "FnhR8l4xtCQS"
      },
      "source": [
        "convert_excel_from_dataframe(titles, my_dataframes)"
      ],
      "execution_count": 15,
      "outputs": []
    },
    {
      "cell_type": "markdown",
      "metadata": {
        "id": "rEF1xG_fM7If"
      },
      "source": [
        "최종적으로 유튜브 메인에서 인기 페이지의 상위 10개의 영상에 대한 댓글들을 수집하여 오늘 날짜 폴더에 각 영상의 타이틀명으로 엑셀 파일 형태로 저장"
      ]
    }
  ]
}